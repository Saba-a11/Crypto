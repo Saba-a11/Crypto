{
  "nbformat": 4,
  "nbformat_minor": 0,
  "metadata": {
    "colab": {
      "provenance": [],
      "authorship_tag": "ABX9TyO0DwkK2XlbSeAROdreg6vD",
      "include_colab_link": true
    },
    "kernelspec": {
      "name": "python3",
      "display_name": "Python 3"
    },
    "language_info": {
      "name": "python"
    }
  },
  "cells": [
    {
      "cell_type": "markdown",
      "metadata": {
        "id": "view-in-github",
        "colab_type": "text"
      },
      "source": [
        "<a href=\"https://colab.research.google.com/github/Saba-a11/Crypto/blob/main/Market_Efficiently_Testing.ipynb\" target=\"_parent\"><img src=\"https://colab.research.google.com/assets/colab-badge.svg\" alt=\"Open In Colab\"/></a>"
      ]
    },
    {
      "cell_type": "markdown",
      "source": [
        "**The Base Standard Test for Randomness Based on Linearity**"
      ],
      "metadata": {
        "id": "oFFQ7S4Qb8iq"
      }
    },
    {
      "cell_type": "markdown",
      "source": [
        "The Base Standard Test for Randomness Based on Linearity (BSTRL) is a statistical test used to measure the randomness of a sequence of numbers. It is based on the concept of linearity, which is the degree to which a sequence of numbers follows a straight line. The BSTRL is used to evaluate the randomness of a sequence of numbers by examining the linearity of the sequence. The test is based on the assumption that a random sequence of numbers should be approximately linear. If the linearity of the sequence is significantly different from a straight line, then the sequence is considered to be non-random."
      ],
      "metadata": {
        "id": "rKLKuZH8b8S9"
      }
    },
    {
      "cell_type": "markdown",
      "source": [
        "**The Hurst Exponent Test**"
      ],
      "metadata": {
        "id": "Um2zYF9xWIbz"
      }
    },
    {
      "cell_type": "markdown",
      "source": [
        "Hurst is a statistical measure that is used to quantify the long-term memory of a time series. It is calculated by analyzing the autocorrelations of the series over different time lags. \n",
        "The Hurst Exponent used to quantify the degree of autocorrelation in a series, which is a measure of how well past values of a series can be used to predict future values. \n",
        "The Hurst Exponent ranges from 0 to 1, with values closer to 1 indicating more persistent behavior and values closer to 0 indicating less persistent behavior.\n",
        "A higher Hurst exponent indicates that the series has a greater tendency to return to its previous values, while a lower exponent indicates that the series is more likely to drift away from its previous values.\n",
        "\n",
        "\n",
        "\n",
        "*   If Hurst = 0.5, then the market is random.\n",
        "*   If Hurst > 0.5, then there is evidence of a trending market.\n",
        "*   If Hurst < 0.5, then there is evidence of a mean reverting market."
      ],
      "metadata": {
        "id": "4MfjlzGyWUTP"
      }
    },
    {
      "cell_type": "markdown",
      "source": [
        "**The AD Fuller Test**"
      ],
      "metadata": {
        "id": "bRglJeSHYh1q"
      }
    },
    {
      "cell_type": "markdown",
      "source": [
        "The Augmented Dickey-Fuller (ADF) test is a statistical test used to determine whether a time series is stationary or non-stationary. It is used to test the null hypothesis that a unit root is present in a time series sample. The ADF test is one of the most widely used tests for determining stationarity in a time series. The test results provide evidence either for or against the presence of a unit root in the series, which is a necessary condition for stationarity."
      ],
      "metadata": {
        "id": "uW0SXQYLY4ZT"
      }
    },
    {
      "cell_type": "markdown",
      "source": [
        "**The Lyapunov Exponent Test**"
      ],
      "metadata": {
        "id": "9yEnGwpNbcI4"
      }
    },
    {
      "cell_type": "markdown",
      "source": [
        "The Lyapunov Exponent Test is a mathematical tool used to measure the sensitivity of a system to its initial conditions. This test is used in chaos theory to measure the rate at which a system moves away from its initial conditions over time. The Lyapunov Exponent Test is used to determine whether a system is chaotic or not. It is calculated by taking the natural logarithm of the ratio of two nearby points in the system’s state space and then averaging the logarithms for all points in the system’s state space. The Lyapunov Exponent Test can be used to detect chaotic behavior in systems such as weather patterns, population growth, and stock market movements.\n",
        "\n",
        "Testing for chaos and nonlinearity. Considered as your last line of defence as takes into account non-linear dependancies after running other efficiency tests."
      ],
      "metadata": {
        "id": "jJTvm6G9bc7d"
      }
    },
    {
      "cell_type": "code",
      "execution_count": 1,
      "metadata": {
        "id": "sLBbZCAVVoWI"
      },
      "outputs": [],
      "source": [
        "import numpy as np\n",
        "import statsmodels.api as sm\n",
        "import scipy.stats as sps\n",
        "\n",
        "def dynamic_hurst_component(returns):\n",
        "    power = 10\n",
        "    n = 2**power\n",
        "    \n",
        "    hursts = np.array([])\n",
        "    tstats = np.array([])\n",
        "    pvalues = np.array([])\n",
        "    res = np.array([])\n",
        "    \n",
        "    for t in np.arange(n, len(returns) + 1):\n",
        "        # Specify subsample\n",
        "        data = returns[t-n:t]\n",
        "        X = np.arange(2, power + 1)\n",
        "        Y = np.array([])\n",
        "        for p in X:\n",
        "            m = 2**p\n",
        "            s = 2**(power-p)\n",
        "            rs_array = np.array([])\n",
        "            \n",
        "            # Move across subsamples\n",
        "            for i in np.arange(0, s):\n",
        "                subsample = data[i*m:(i+1)*m]\n",
        "                mean = np.average(subsample)\n",
        "                deviate = np.cumsum(subsample-mean)\n",
        "                difference = max(deviate) - min(deviate)\n",
        "                stdev = np.std(subsample)\n",
        "                rescaled_range = difference / stdev\n",
        "                rs_array = np.append(rs_array, rescaled_range)\n",
        "                \n",
        "            # Calculating the log2 of average rescaled range\n",
        "            Y = np.append(Y, np.log2(np.average(rs_array)))\n",
        "        reg = sm.OLS(Y, sm.add_constant(X))\n",
        "        res = reg.fit()\n",
        "        hurst = res.params[1]\n",
        "        tstat = (res.params[1] - 0.5) / res.bse[1]\n",
        "        pvalue = 2 * (1 - sps.t.cdf(abs(tstat), res.df_resid))\n",
        "        hursts = np.append(hursts, hurst)\n",
        "        tstats = np.append(tstats, tstat)\n",
        "        pvalues = np.append(pvalues, pvalue)\n",
        "        \n",
        "    return hursts, tstats, pvalues, n, res"
      ]
    },
    {
      "cell_type": "code",
      "source": [
        "import pandas as pd\n",
        "import numpy as np\n",
        "from numpy import cumsum, log, polyfit, sqrt, std, subtract\n",
        "import sklearn.mixture as mix\n",
        "import yfinance as yf"
      ],
      "metadata": {
        "id": "PMmRSjHccw45"
      },
      "execution_count": 2,
      "outputs": []
    },
    {
      "cell_type": "code",
      "source": [
        "# Data Extraction\n",
        "start_date = \"2019-12-31\"\n",
        "end_date = \"2022-06-30\"\n",
        "symbol = \"SPY\"\n",
        "df = yf.download(symbol, start_date, end_date)\n",
        "df[\"Returns\"] = df[\"Close\"] / df[\"Close\"].shift(1) - 1\n",
        "df.dropna(inplace=True)\n",
        "df.head(3)"
      ],
      "metadata": {
        "colab": {
          "base_uri": "https://localhost:8080/",
          "height": 192
        },
        "id": "Vwm2GWoacic0",
        "outputId": "38883a0d-f3b8-4344-d6ae-5bda6896ac5e"
      },
      "execution_count": 3,
      "outputs": [
        {
          "output_type": "stream",
          "name": "stdout",
          "text": [
            "\r[*********************100%***********************]  1 of 1 completed\n"
          ]
        },
        {
          "output_type": "execute_result",
          "data": {
            "text/plain": [
              "                  Open        High         Low       Close   Adj Close  \\\n",
              "Date                                                                     \n",
              "2020-01-02  323.540009  324.890015  322.529999  324.869995  309.694855   \n",
              "2020-01-03  321.160004  323.640015  321.100006  322.410004  307.349854   \n",
              "2020-01-06  320.489990  323.730011  320.359985  323.640015  308.522369   \n",
              "\n",
              "              Volume   Returns  \n",
              "Date                            \n",
              "2020-01-02  59151200  0.009352  \n",
              "2020-01-03  77709700 -0.007572  \n",
              "2020-01-06  55653900  0.003815  "
            ],
            "text/html": [
              "\n",
              "  <div id=\"df-54b25602-f5f7-46b5-a765-92596cec7d9c\">\n",
              "    <div class=\"colab-df-container\">\n",
              "      <div>\n",
              "<style scoped>\n",
              "    .dataframe tbody tr th:only-of-type {\n",
              "        vertical-align: middle;\n",
              "    }\n",
              "\n",
              "    .dataframe tbody tr th {\n",
              "        vertical-align: top;\n",
              "    }\n",
              "\n",
              "    .dataframe thead th {\n",
              "        text-align: right;\n",
              "    }\n",
              "</style>\n",
              "<table border=\"1\" class=\"dataframe\">\n",
              "  <thead>\n",
              "    <tr style=\"text-align: right;\">\n",
              "      <th></th>\n",
              "      <th>Open</th>\n",
              "      <th>High</th>\n",
              "      <th>Low</th>\n",
              "      <th>Close</th>\n",
              "      <th>Adj Close</th>\n",
              "      <th>Volume</th>\n",
              "      <th>Returns</th>\n",
              "    </tr>\n",
              "    <tr>\n",
              "      <th>Date</th>\n",
              "      <th></th>\n",
              "      <th></th>\n",
              "      <th></th>\n",
              "      <th></th>\n",
              "      <th></th>\n",
              "      <th></th>\n",
              "      <th></th>\n",
              "    </tr>\n",
              "  </thead>\n",
              "  <tbody>\n",
              "    <tr>\n",
              "      <th>2020-01-02</th>\n",
              "      <td>323.540009</td>\n",
              "      <td>324.890015</td>\n",
              "      <td>322.529999</td>\n",
              "      <td>324.869995</td>\n",
              "      <td>309.694855</td>\n",
              "      <td>59151200</td>\n",
              "      <td>0.009352</td>\n",
              "    </tr>\n",
              "    <tr>\n",
              "      <th>2020-01-03</th>\n",
              "      <td>321.160004</td>\n",
              "      <td>323.640015</td>\n",
              "      <td>321.100006</td>\n",
              "      <td>322.410004</td>\n",
              "      <td>307.349854</td>\n",
              "      <td>77709700</td>\n",
              "      <td>-0.007572</td>\n",
              "    </tr>\n",
              "    <tr>\n",
              "      <th>2020-01-06</th>\n",
              "      <td>320.489990</td>\n",
              "      <td>323.730011</td>\n",
              "      <td>320.359985</td>\n",
              "      <td>323.640015</td>\n",
              "      <td>308.522369</td>\n",
              "      <td>55653900</td>\n",
              "      <td>0.003815</td>\n",
              "    </tr>\n",
              "  </tbody>\n",
              "</table>\n",
              "</div>\n",
              "      <button class=\"colab-df-convert\" onclick=\"convertToInteractive('df-54b25602-f5f7-46b5-a765-92596cec7d9c')\"\n",
              "              title=\"Convert this dataframe to an interactive table.\"\n",
              "              style=\"display:none;\">\n",
              "        \n",
              "  <svg xmlns=\"http://www.w3.org/2000/svg\" height=\"24px\"viewBox=\"0 0 24 24\"\n",
              "       width=\"24px\">\n",
              "    <path d=\"M0 0h24v24H0V0z\" fill=\"none\"/>\n",
              "    <path d=\"M18.56 5.44l.94 2.06.94-2.06 2.06-.94-2.06-.94-.94-2.06-.94 2.06-2.06.94zm-11 1L8.5 8.5l.94-2.06 2.06-.94-2.06-.94L8.5 2.5l-.94 2.06-2.06.94zm10 10l.94 2.06.94-2.06 2.06-.94-2.06-.94-.94-2.06-.94 2.06-2.06.94z\"/><path d=\"M17.41 7.96l-1.37-1.37c-.4-.4-.92-.59-1.43-.59-.52 0-1.04.2-1.43.59L10.3 9.45l-7.72 7.72c-.78.78-.78 2.05 0 2.83L4 21.41c.39.39.9.59 1.41.59.51 0 1.02-.2 1.41-.59l7.78-7.78 2.81-2.81c.8-.78.8-2.07 0-2.86zM5.41 20L4 18.59l7.72-7.72 1.47 1.35L5.41 20z\"/>\n",
              "  </svg>\n",
              "      </button>\n",
              "      \n",
              "  <style>\n",
              "    .colab-df-container {\n",
              "      display:flex;\n",
              "      flex-wrap:wrap;\n",
              "      gap: 12px;\n",
              "    }\n",
              "\n",
              "    .colab-df-convert {\n",
              "      background-color: #E8F0FE;\n",
              "      border: none;\n",
              "      border-radius: 50%;\n",
              "      cursor: pointer;\n",
              "      display: none;\n",
              "      fill: #1967D2;\n",
              "      height: 32px;\n",
              "      padding: 0 0 0 0;\n",
              "      width: 32px;\n",
              "    }\n",
              "\n",
              "    .colab-df-convert:hover {\n",
              "      background-color: #E2EBFA;\n",
              "      box-shadow: 0px 1px 2px rgba(60, 64, 67, 0.3), 0px 1px 3px 1px rgba(60, 64, 67, 0.15);\n",
              "      fill: #174EA6;\n",
              "    }\n",
              "\n",
              "    [theme=dark] .colab-df-convert {\n",
              "      background-color: #3B4455;\n",
              "      fill: #D2E3FC;\n",
              "    }\n",
              "\n",
              "    [theme=dark] .colab-df-convert:hover {\n",
              "      background-color: #434B5C;\n",
              "      box-shadow: 0px 1px 3px 1px rgba(0, 0, 0, 0.15);\n",
              "      filter: drop-shadow(0px 1px 2px rgba(0, 0, 0, 0.3));\n",
              "      fill: #FFFFFF;\n",
              "    }\n",
              "  </style>\n",
              "\n",
              "      <script>\n",
              "        const buttonEl =\n",
              "          document.querySelector('#df-54b25602-f5f7-46b5-a765-92596cec7d9c button.colab-df-convert');\n",
              "        buttonEl.style.display =\n",
              "          google.colab.kernel.accessAllowed ? 'block' : 'none';\n",
              "\n",
              "        async function convertToInteractive(key) {\n",
              "          const element = document.querySelector('#df-54b25602-f5f7-46b5-a765-92596cec7d9c');\n",
              "          const dataTable =\n",
              "            await google.colab.kernel.invokeFunction('convertToInteractive',\n",
              "                                                     [key], {});\n",
              "          if (!dataTable) return;\n",
              "\n",
              "          const docLinkHtml = 'Like what you see? Visit the ' +\n",
              "            '<a target=\"_blank\" href=https://colab.research.google.com/notebooks/data_table.ipynb>data table notebook</a>'\n",
              "            + ' to learn more about interactive tables.';\n",
              "          element.innerHTML = '';\n",
              "          dataTable['output_type'] = 'display_data';\n",
              "          await google.colab.output.renderOutput(dataTable, element);\n",
              "          const docLink = document.createElement('div');\n",
              "          docLink.innerHTML = docLinkHtml;\n",
              "          element.appendChild(docLink);\n",
              "        }\n",
              "      </script>\n",
              "    </div>\n",
              "  </div>\n",
              "  "
            ]
          },
          "metadata": {},
          "execution_count": 3
        }
      ]
    },
    {
      "cell_type": "code",
      "source": [
        "# Returns extraction\n",
        "returns = df[\"Returns\"].values.astype(float)"
      ],
      "metadata": {
        "id": "C5-l0kOKcrSQ"
      },
      "execution_count": 4,
      "outputs": []
    },
    {
      "cell_type": "code",
      "source": [
        "result = dynamic_hurst_component(returns)"
      ],
      "metadata": {
        "id": "5_4uKutMddkS"
      },
      "execution_count": 5,
      "outputs": []
    },
    {
      "cell_type": "code",
      "source": [],
      "metadata": {
        "id": "Z23x-et2dtFI"
      },
      "execution_count": null,
      "outputs": []
    }
  ]
}