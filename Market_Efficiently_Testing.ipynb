{
  "nbformat": 4,
  "nbformat_minor": 0,
  "metadata": {
    "colab": {
      "provenance": [],
      "authorship_tag": "ABX9TyMvKB1MD+WfBfsQ4pmU20m9",
      "include_colab_link": true
    },
    "kernelspec": {
      "name": "python3",
      "display_name": "Python 3"
    },
    "language_info": {
      "name": "python"
    }
  },
  "cells": [
    {
      "cell_type": "markdown",
      "metadata": {
        "id": "view-in-github",
        "colab_type": "text"
      },
      "source": [
        "<a href=\"https://colab.research.google.com/github/Saba-a11/Crypto/blob/main/Market_Efficiently_Testing.ipynb\" target=\"_parent\"><img src=\"https://colab.research.google.com/assets/colab-badge.svg\" alt=\"Open In Colab\"/></a>"
      ]
    },
    {
      "cell_type": "markdown",
      "source": [
        "**The Hurst Exponent**"
      ],
      "metadata": {
        "id": "Um2zYF9xWIbz"
      }
    },
    {
      "cell_type": "markdown",
      "source": [
        "Hurst is a statistical measure that is used to quantify the long-term memory of a time series. It is calculated by analyzing the autocorrelations of the series over different time lags. \n",
        "The Hurst Exponent used to quantify the degree of autocorrelation in a series, which is a measure of how well past values of a series can be used to predict future values. \n",
        "The Hurst Exponent ranges from 0 to 1, with values closer to 1 indicating more persistent behavior and values closer to 0 indicating less persistent behavior.\n",
        "A higher Hurst exponent indicates that the series has a greater tendency to return to its previous values, while a lower exponent indicates that the series is more likely to drift away from its previous values.\n",
        "\n",
        "\n",
        "\n",
        "*   If Hurst = 0.5, then the market is random.\n",
        "*   If Hurst > 0.5, then there is evidence of a trending market.\n",
        "*   If Hurst < 0.5, then there is evidence of a mean reverting market."
      ],
      "metadata": {
        "id": "4MfjlzGyWUTP"
      }
    },
    {
      "cell_type": "code",
      "execution_count": null,
      "metadata": {
        "id": "sLBbZCAVVoWI"
      },
      "outputs": [],
      "source": []
    }
  ]
}